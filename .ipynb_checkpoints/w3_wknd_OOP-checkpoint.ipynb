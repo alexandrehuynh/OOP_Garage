{
 "cells": [
  {
   "cell_type": "markdown",
   "id": "3e5b8e09-355e-4e9a-b259-5a04a01f51bc",
   "metadata": {
    "tags": []
   },
   "source": [
    "# Week 3 Weekend Group Project"
   ]
  },
  {
   "cell_type": "markdown",
   "id": "c0b6cf42-baef-406b-910d-0722c40ff6f2",
   "metadata": {
    "tags": []
   },
   "source": [
    "### Build a garage using OOP"
   ]
  },
  {
   "cell_type": "markdown",
   "id": "8bbbe1c0-0760-4a5f-a22a-6fa62ac98768",
   "metadata": {},
   "source": [
    "Here are some guidelines on constructing your Garage. Your Garage does not need to do exactly this.\n",
    "BUT! It should be robust enough for the user to interact with as if they were entering and leaving a parking garage. \n",
    "- take_ticket\n",
    "- This should decrease the amount of tickets available by 1\n",
    "- This should decrease the amount of parking_spaces available by 1\n",
    "- pay_for_parking\n",
    "- Display an input that waits for an amount from the user and store it in a variable\n",
    "- If the payment variable is not empty then (meaning the ticket has been paid) -> display a message to the user that their ticket has been paid and they have 15mins to leave\n",
    "- This should update the \"current_ticket\" dictionary key \"paid\" to True\n",
    "-leave_garage\n",
    "- If the ticket has been paid, display a message of \"Thank You, have a nice day\"\n",
    "- If the ticket has not been paid, display an input prompt for payment\n",
    "- Once paid, display message \"Thank you, have a nice day!\"\n",
    "- Update parking_spaces list to increase by 1 (meaning add to the parkingSpaces list)\n",
    "- Update tickets list to increase by 1 (meaning add to the tickets list)\n",
    "\n",
    "Some example attributes:\n",
    "- tickets -> list\n",
    "- parking_spaces -> list\n",
    "- current_ticket -> dictionary"
   ]
  },
  {
   "cell_type": "markdown",
   "id": "3e59d7aa-35c0-4dac-ac1a-73b2626d5b50",
   "metadata": {},
   "source": [
    "######"
   ]
  },
  {
   "cell_type": "markdown",
   "id": "287d281c-7a12-4e3a-ad5d-8b1db1d50bab",
   "metadata": {},
   "source": [
    "#### Define Key Components"
   ]
  },
  {
   "cell_type": "markdown",
   "id": "ef61a806-97e5-41fc-91ac-99d04d01e7c6",
   "metadata": {},
   "source": [
    "Garage class containing:\n",
    "- tickets: List to track available tickets.\n",
    "- parking_spaces: List to track available parking spaces.\n",
    "- current_ticket: Dictionary to track the status of the current ticket.\n",
    "- rate_per_hour: Attribute to store the hourly parking rate.\n",
    "- entry_time: Dictionary to track the entry time for each ticket.\n",
    "- exit_time: Dictionary to track the exit time for each ticket.\n",
    "\n",
    "Methods:\n",
    "- take_ticket()\n",
    "- pay_for_parking()\n",
    "- leave_garage()\n",
    "- calculate_fee()\n",
    "- check_space_availability()\n",
    "- display_garage_status()\n",
    "- extend_parking()\n",
    "- generate_report()"
   ]
  },
  {
   "cell_type": "markdown",
   "id": "2888614a-372d-47e5-8a3f-f67d10521e09",
   "metadata": {},
   "source": [
    "######"
   ]
  },
  {
   "cell_type": "code",
   "execution_count": 1,
   "id": "e58ad918-56fb-4543-9421-e9f97c713820",
   "metadata": {
    "tags": []
   },
   "outputs": [],
   "source": [
    "class Garage:\n",
    "    def __init__(self):\n",
    "        self.tickets = [True] * 121 # Initial ticket\n",
    "        self.parking_spaces = [True] * 121 # Initial parking spacesw\n",
    "        self.current_ticket = {}\n",
    "        \n",
    "    def take_ticket(self):\n",
    "        if True in self.tickets:\n",
    "            ticket_index = self.tickets.index(True)\n",
    "            self.tickets[ticket_index] = False\n",
    "            self.parking_spaces[ticket_index] = False\n",
    "            self.current_ticket = {\"ticket_number\": ticket_index, \"paid\": False}\n",
    "            print(f\"Ticket #{ticket_index} taken. Please park at space #{ticket_index}.\")\n",
    "        else:\n",
    "            print(\"No tickets available\")\n",
    "            \n",
    "    def pay_for_parking(self):\n",
    "        \n",
    "        amount = float(input(\"Enter amount to pay: \"))\n",
    "        if amount > 0:\n",
    "            self.current_ticket[\"paid\"] = True\n",
    "            print(f\"Your ticket number: {self.current_ticket['ticket_number']} is now paid\")\n",
    "    \n",
    "    def leave_garage(self):\n",
    "        if \"ticket_number\" in self.current_ticket:\n",
    "            if self.current_ticket.get(\"paid\"):\n",
    "                print(\"Thank you, Have a nice day!\")\n",
    "                ticket_number = self.current_ticket['ticket_number']\n",
    "                self.parking_spaces[ticket_number] = True\n",
    "                self.tickets[ticket_number] = True\n",
    "                self.current_ticket = {}\n",
    "\n",
    "            else:\n",
    "                print(\"You have not paid your ticket.\")\n",
    "                self.pay_for_parking() \n",
    "                if self.current_ticket.get(\"paid\"):\n",
    "                    print(\"Thank you, Have a nice day!\")\n",
    "                    ticket_number = self.current_ticket['ticket_number']\n",
    "                    self.parking_spaces[ticket_number] = True\n",
    "                    self.tickets[ticket_number] = True\n",
    "                    self.current_ticket = {}\n",
    "                \n",
    "        else:\n",
    "            print(\"Yoooo we need a ticket home boy/girl!\")"
   ]
  },
  {
   "cell_type": "code",
   "execution_count": 2,
   "id": "39b7a28d-cdb2-4c06-ac25-b6d2497c06eb",
   "metadata": {
    "tags": []
   },
   "outputs": [
    {
     "name": "stdout",
     "output_type": "stream",
     "text": [
      "Ticket #0 taken. Please park at space #0.\n"
     ]
    }
   ],
   "source": [
    "garage = Garage()\n",
    "garage.take_ticket()"
   ]
  },
  {
   "cell_type": "code",
   "execution_count": 4,
   "id": "2e233f39-d7fc-488c-93b0-6ec24cec1492",
   "metadata": {
    "tags": []
   },
   "outputs": [
    {
     "name": "stdout",
     "output_type": "stream",
     "text": [
      "Ticket #1 taken. Please park at space #1.\n"
     ]
    }
   ],
   "source": [
    "garage.take_ticket()"
   ]
  },
  {
   "cell_type": "code",
   "execution_count": 5,
   "id": "92ffcbe9-cdc9-48cd-a2fe-b5a2144c35e7",
   "metadata": {
    "tags": []
   },
   "outputs": [
    {
     "name": "stdin",
     "output_type": "stream",
     "text": [
      "Enter amount to pay:  13\n"
     ]
    },
    {
     "name": "stdout",
     "output_type": "stream",
     "text": [
      "Your ticket number: 1 is now paid\n"
     ]
    }
   ],
   "source": [
    "garage.pay_for_parking()"
   ]
  },
  {
   "cell_type": "code",
   "execution_count": 6,
   "id": "2bc72ed8-e691-4b3d-812c-52773024ec93",
   "metadata": {
    "tags": []
   },
   "outputs": [
    {
     "name": "stdout",
     "output_type": "stream",
     "text": [
      "Thank you, Have a nice day!\n"
     ]
    }
   ],
   "source": [
    "garage.leave_garage()"
   ]
  },
  {
   "cell_type": "code",
   "execution_count": 28,
   "id": "41eb100a-414e-4a63-969f-10d7964509df",
   "metadata": {
    "tags": []
   },
   "outputs": [],
   "source": [
    "import datetime\n",
    "\n",
    "class Garage:\n",
    "    def __init__(self):\n",
    "        self.tickets = [True] * 121 # Initial ticket\n",
    "        self.parking_spaces = [True] * 121 # Initial parking spaces\n",
    "        self.current_ticket = {}\n",
    "        self.entry_time = {}\n",
    "        self.exit_time = {}\n",
    "        self.rate_per_hour = 2.0\n",
    "        \n",
    "    def take_ticket(self):\n",
    "        if True in self.tickets:\n",
    "            ticket_index = self.tickets.index(True)\n",
    "            self.tickets[ticket_index] = False\n",
    "            self.parking_spaces[ticket_index] = False\n",
    "            self.current_ticket = {\"ticket_number\": ticket_index, \"paid\": False}\n",
    "            self.entry_time[ticket_index] = datetime.datetime.now()  # Record entry time\n",
    "            print(f\"Ticket #{ticket_index} taken. Please park at space #{ticket_index}.\")\n",
    "        \n",
    "        else:\n",
    "            print(\"No tickets available\")\n",
    "     \n",
    "    def display_garage_status(self):\n",
    "        available_tickets = self.tickets.count(True)\n",
    "        available_spaces = self.parking_spaces.count(True)\n",
    "        print(f\"Available Tickets: {available_tickets}, Available Spaces: {available_spaces}\")\n",
    "        \n",
    "    def check_space_availability(self):\n",
    "        return True in self.tickets\n",
    "\n",
    "    def calculate_fee(self):\n",
    "        if \"ticket_number\" in self.current_ticket:\n",
    "            ticket_number = self.current_ticket[\"ticket_number\"]\n",
    "            if ticket_number in self.entry_time:\n",
    "                entry_time = self.entry_time[ticket_number]\n",
    "                exit_time = datetime.datetime.now()\n",
    "                duration = exit_time - entry_time\n",
    "                hours = duration.total_seconds() / 3600\n",
    "                fee = round(hours * self.rate_per_hour, 2)\n",
    "                return fee\n",
    "            else:\n",
    "                print(\"Error: Entry time not recorded.\")\n",
    "                return 0  # Default fee or appropriate handling\n",
    "        else:\n",
    "            print(\"Error: No current ticket.\")\n",
    "            return 0  # Default fee or appropriate handling\n",
    "\n",
    "    def pay_for_parking(self):\n",
    "        amount = float(input(\"Enter payment amount: \"))\n",
    "        required_fee = self.calculate_fee()\n",
    "        if required_fee is not None and amount >= required_fee:\n",
    "            self.current_ticket[\"paid\"] = True\n",
    "            print(f\"Your ticket number: {self.current_ticket['ticket_number']} is now paid\")\n",
    "        else:\n",
    "            print(\"Error in payment. Please try again.\")\n",
    "\n",
    "    \n",
    "    def leave_garage(self): \n",
    "        if \"ticket_number\" in self.current_ticket:\n",
    "            if self.current_ticket.get(\"paid\"):\n",
    "                print(\"Thank you, Have a nice day!\")\n",
    "                ticket_number = self.current_ticket['ticket_number']\n",
    "                self.parking_spaces[ticket_number] = True\n",
    "                self.tickets[ticket_number] = True\n",
    "                self.current_ticket = {}\n",
    "\n",
    "            else:\n",
    "                print(\"You have not paid your ticket.\")\n",
    "                self.pay_for_parking() \n",
    "                if self.current_ticket.get(\"paid\"):\n",
    "                    print(\"Thank you, Have a nice day!\")\n",
    "                    ticket_number = self.current_ticket['ticket_number']\n",
    "                    self.parking_spaces[ticket_number] = True\n",
    "                    self.tickets[ticket_number] = True\n",
    "                    self.current_ticket = {}\n",
    "                \n",
    "        else:\n",
    "            print(\"Yoooo we need a ticket home boy/girl!\")\n",
    "\n",
    "\n",
    "# Garage class containing:\n",
    "# - tickets: List to track available tickets.\n",
    "# - parking_spaces: List to track available parking spaces.\n",
    "# - current_ticket: Dictionary to track the status of the current ticket.\n",
    "# - rate_per_hour: Attribute to store the hourly parking rate.\n",
    "# - entry_time: Dictionary to track the entry time for each ticket.\n",
    "# - exit_time: Dictionary to track the exit time for each ticket.\n",
    "\n",
    "# Methods:\n",
    "# - take_ticket()\n",
    "# - pay_for_parking()\n",
    "# - leave_garage()\n",
    "# - calculate_fee()\n",
    "# - check_space_availability()\n",
    "# - display_garage_status()\n",
    "# - extend_parking()\n",
    "# - generate_report()"
   ]
  },
  {
   "cell_type": "code",
   "execution_count": 29,
   "id": "3e9653da-4300-4718-bc37-21e64b5cf67e",
   "metadata": {
    "tags": []
   },
   "outputs": [
    {
     "name": "stdout",
     "output_type": "stream",
     "text": [
      "Ticket #0 taken. Please park at space #0.\n"
     ]
    }
   ],
   "source": [
    "garage = Garage()\n",
    "garage.take_ticket()"
   ]
  },
  {
   "cell_type": "code",
   "execution_count": 30,
   "id": "9680fd9c-3844-43c1-8041-68d34fbe5d13",
   "metadata": {
    "tags": []
   },
   "outputs": [
    {
     "data": {
      "text/plain": [
       "0.0"
      ]
     },
     "execution_count": 30,
     "metadata": {},
     "output_type": "execute_result"
    }
   ],
   "source": [
    "garage.calculate_fee()"
   ]
  },
  {
   "cell_type": "code",
   "execution_count": 31,
   "id": "698a5b60-c628-4fcb-93e9-1e92b34dcdaf",
   "metadata": {
    "tags": []
   },
   "outputs": [
    {
     "name": "stdin",
     "output_type": "stream",
     "text": [
      "Enter payment amount:  1\n"
     ]
    },
    {
     "name": "stdout",
     "output_type": "stream",
     "text": [
      "Your ticket number: 0 is now paid\n"
     ]
    }
   ],
   "source": [
    "garage.pay_for_parking()"
   ]
  },
  {
   "cell_type": "code",
   "execution_count": 32,
   "id": "add9bb0c-1097-4104-9e4a-6faed07de989",
   "metadata": {
    "tags": []
   },
   "outputs": [
    {
     "name": "stdout",
     "output_type": "stream",
     "text": [
      "Available Tickets: 120, Available Spaces: 120\n"
     ]
    }
   ],
   "source": [
    "garage.display_garage_status()"
   ]
  },
  {
   "cell_type": "code",
   "execution_count": 34,
   "id": "e629f16d-4a73-493e-aca9-c2c44089858d",
   "metadata": {
    "tags": []
   },
   "outputs": [
    {
     "data": {
      "text/plain": [
       "True"
      ]
     },
     "execution_count": 34,
     "metadata": {},
     "output_type": "execute_result"
    }
   ],
   "source": [
    "garage.check_space_availability()"
   ]
  },
  {
   "cell_type": "code",
   "execution_count": 130,
   "id": "0be5d480-272e-4604-81f1-133b8ea80eb9",
   "metadata": {
    "tags": []
   },
   "outputs": [],
   "source": [
    "import datetime\n",
    "\n",
    "class Garage:\n",
    "    def __init__(self):\n",
    "        self.tickets = [True] * 121 # Initial ticket\n",
    "        self.parking_spaces = [True] * 121 # Initial parking spaces\n",
    "        self.active_tickets = {} \n",
    "        self.entry_time = {}\n",
    "        self.exit_time = {}\n",
    "        self.rate_per_hour = 2.0\n",
    "        \n",
    "    def take_ticket(self):\n",
    "        if self.check_space_availability():\n",
    "            ticket_index = self.tickets.index(True)\n",
    "            self.tickets[ticket_index] = False\n",
    "            self.parking_spaces[ticket_index] = False\n",
    "            self.active_tickets = {\"ticket_number\": ticket_index, \"paid\": False}\n",
    "            self.entry_time[ticket_index] = datetime.datetime.now()  # Record entry time\n",
    "            print(f\"Ticket #{ticket_index} taken. Please park at space #{ticket_index}.\")\n",
    "        else:\n",
    "            print(\"No tickets available\")\n",
    "     \n",
    "    def display_garage_status(self):\n",
    "        available_tickets = self.tickets.count(True)\n",
    "        available_spaces = self.parking_spaces.count(True)\n",
    "        print(f\"Available Tickets: {available_tickets}, Available Spaces: {available_spaces}\")\n",
    "        \n",
    "    def check_space_availability(self):\n",
    "        return True in self.tickets\n",
    "\n",
    "    def calculate_fee(self, ticket_number):\n",
    "        if ticket_number in self.entry_time:\n",
    "            entry_time = self.entry_time[ticket_number]\n",
    "            exit_time = datetime.datetime.now()\n",
    "            duration = exit_time - entry_time\n",
    "            hours = duration.total_seconds() / 3600\n",
    "            return round(hours * self.rate_per_hour, 2)\n",
    "        else:\n",
    "            print(\"Error: Entry time not recorded for this ticket.\")\n",
    "            return 0\n",
    "\n",
    "    def pay_for_parking(self, ticket_number=None):\n",
    "        if ticket_number is None:\n",
    "            ticket_number = self.active_tickets.get(\"ticket_number\")\n",
    "\n",
    "        if ticket_number is not None and ticket_number in self.entry_time:\n",
    "            required_fee = self.calculate_fee(ticket_number)\n",
    "            amount = float(input(\"Enter payment amount: \"))\n",
    "            if amount >= required_fee:\n",
    "                print(f\"Payment accepted for ticket number: {ticket_number}.\")\n",
    "                self.active_tickets = {}  # Clear current ticket\n",
    "                self.exit_time[ticket_number] = datetime.datetime.now()\n",
    "            else:\n",
    "                print(\"Error in payment. Please try again.\")\n",
    "        else:\n",
    "            print(\"Invalid ticket number or ticket not found.\")\n",
    "            \n",
    "    def leave_garage(self, ticket_number=None):\n",
    "        if ticket_number is None:\n",
    "            ticket_number = self.active_tickets.get(\"ticket_number\")\n",
    "\n",
    "        if ticket_number in self.entry_time:\n",
    "            if not self.active_tickets.get(\"paid\", False):\n",
    "                print(\"Ticket not paid. Please pay for your parking.\")\n",
    "                self.pay_for_parking(ticket_number)\n",
    "\n",
    "            if self.active_tickets.get(\"paid\"):\n",
    "                print(\"Thank you, have a nice day!\")\n",
    "                self.tickets[ticket_number] = True\n",
    "                self.parking_spaces[ticket_number] = True\n",
    "                self.active_tickets = {}\n",
    "        else:\n",
    "            print(\"Invalid ticket number or no ticket has been taken.\")\n",
    "\n",
    "# Garage class containing:\n",
    "# - tickets: List to track available tickets.\n",
    "# - parking_spaces: List to track available parking spaces.\n",
    "# - active_tickets: Dictionary to track the status of the current ticket.\n",
    "# - rate_per_hour: Attribute to store the hourly parking rate.\n",
    "# - entry_time: Dictionary to track the entry time for each ticket.\n",
    "# - exit_time: Dictionary to track the exit time for each ticket.\n",
    "\n",
    "# Methods:\n",
    "# - take_ticket()\n",
    "# - pay_for_parking()\n",
    "# - leave_garage()\n",
    "# - calculate_fee()\n",
    "# - check_space_availability()\n",
    "# - display_garage_status()\n",
    "# - extend_parking()\n",
    "# - generate_report()"
   ]
  },
  {
   "cell_type": "code",
   "execution_count": 131,
   "id": "4f2c3391-413a-4d2e-a1e1-b8f688769b20",
   "metadata": {
    "tags": []
   },
   "outputs": [],
   "source": [
    "garage = Garage()"
   ]
  },
  {
   "cell_type": "code",
   "execution_count": 140,
   "id": "e7318a03-46be-46e7-a351-d802385b6db1",
   "metadata": {
    "tags": []
   },
   "outputs": [
    {
     "name": "stdout",
     "output_type": "stream",
     "text": [
      "Ticket #8 taken. Please park at space #8.\n"
     ]
    }
   ],
   "source": [
    "garage.take_ticket()"
   ]
  },
  {
   "cell_type": "code",
   "execution_count": 141,
   "id": "a5585e27-a410-4cd3-a47a-e3c169431cf6",
   "metadata": {
    "tags": []
   },
   "outputs": [
    {
     "name": "stdin",
     "output_type": "stream",
     "text": [
      "Enter payment amount:  2\n"
     ]
    },
    {
     "name": "stdout",
     "output_type": "stream",
     "text": [
      "Payment accepted for ticket number: 5.\n"
     ]
    }
   ],
   "source": [
    "garage.pay_for_parking(5)"
   ]
  },
  {
   "cell_type": "code",
   "execution_count": 142,
   "id": "c8cbb916-0339-4dcb-bdf6-b3bb5bdc13ce",
   "metadata": {
    "tags": []
   },
   "outputs": [
    {
     "data": {
      "text/plain": [
       "0.0"
      ]
     },
     "execution_count": 142,
     "metadata": {},
     "output_type": "execute_result"
    }
   ],
   "source": [
    "garage.calculate_fee(4)"
   ]
  },
  {
   "cell_type": "code",
   "execution_count": 143,
   "id": "d55ddbdb-ada5-4c33-ab4a-45b1a6cd0a24",
   "metadata": {
    "tags": []
   },
   "outputs": [
    {
     "name": "stdout",
     "output_type": "stream",
     "text": [
      "Ticket not paid. Please pay for your parking.\n"
     ]
    },
    {
     "name": "stdin",
     "output_type": "stream",
     "text": [
      "Enter payment amount:  1\n"
     ]
    },
    {
     "name": "stdout",
     "output_type": "stream",
     "text": [
      "Payment accepted for ticket number: 2.\n"
     ]
    }
   ],
   "source": [
    "garage.leave_garage(2)"
   ]
  },
  {
   "cell_type": "code",
   "execution_count": null,
   "id": "64e4783e-a3da-478c-9b28-40821ff27490",
   "metadata": {},
   "outputs": [],
   "source": []
  },
  {
   "cell_type": "code",
   "execution_count": 184,
   "id": "00fc3928-c32d-4824-a23b-ba2b918ca9ea",
   "metadata": {
    "tags": []
   },
   "outputs": [],
   "source": [
    "import datetime\n",
    "\n",
    "class Garage:\n",
    "    def __init__(self):\n",
    "        self.tickets = [True] * 121 # Initial ticket\n",
    "        self.parking_spaces = [True] * 121 # Initial parking spaces\n",
    "        self.active_tickets = {} \n",
    "        self.entry_time = {}\n",
    "        self.exit_time = {}\n",
    "        self.rate_per_hour = 2.0\n",
    "        \n",
    "    def take_ticket(self):\n",
    "        if self.check_space_availability():\n",
    "            ticket_index = self.tickets.index(True)\n",
    "            self.tickets[ticket_index] = False\n",
    "            self.parking_spaces[ticket_index] = False\n",
    "            self.active_tickets[ticket_index] = {\"paid\": False, \"entry_time\": datetime.datetime.now()}\n",
    "            self.entry_time[ticket_index] = datetime.datetime.now()  \n",
    "            print(f\"Ticket #{ticket_index} taken. Please park at space #{ticket_index}.\")\n",
    "        else:\n",
    "            print(\"No tickets available\")\n",
    "     \n",
    "    def display_garage_status(self):\n",
    "        available_tickets = self.tickets.count(True)\n",
    "        available_spaces = self.parking_spaces.count(True)\n",
    "        print(f\"Available Tickets: {available_tickets}, Available Spaces: {available_spaces}\")\n",
    "        \n",
    "    def check_space_availability(self):\n",
    "        return True in self.tickets\n",
    "\n",
    "    def calculate_fee(self, ticket_number):\n",
    "        if ticket_number in self.entry_time:\n",
    "            entry_time = self.entry_time[ticket_number]\n",
    "            exit_time = datetime.datetime.now()\n",
    "            duration = exit_time - entry_time\n",
    "            hours = duration.total_seconds() / 3600\n",
    "            return round(hours * self.rate_per_hour, 2)\n",
    "        else:\n",
    "            print(\"Error: Entry time not recorded for this ticket.\")\n",
    "            return 0\n",
    "\n",
    "    def pay_for_parking(self, ticket_number=None):\n",
    "        if ticket_number in self.active_tickets and ticket_number in self.entry_time:\n",
    "            required_fee = self.calculate_fee(ticket_number)\n",
    "            amount = float(input(\"Enter payment amount: \"))\n",
    "            if amount >= required_fee:\n",
    "                self.active_tickets[ticket_number][\"paid\"] = True\n",
    "                print(f\"Payment accepted for ticket number: {ticket_number}.\")\n",
    "            else:\n",
    "                print(\"Error in payment. Please try again.\")\n",
    "        else:\n",
    "            print(\"Invalid ticket number or ticket not found.\")\n",
    "            \n",
    "    def leave_garage(self, ticket_number=None):\n",
    "        if ticket_number in self.active_tickets and ticket_number in self.entry_time:\n",
    "            if self.active_tickets[ticket_number].get(\"paid\", False):\n",
    "                print(\"Thank you, have a nice day!\")\n",
    "                self.tickets[ticket_number] = True\n",
    "                self.parking_spaces[ticket_number] = True\n",
    "                del self.active_tickets[ticket_number]\n",
    "            else:\n",
    "                print(\"Ticket not paid. Please pay for your parking.\")\n",
    "                self.pay_for_parking(ticket_number)\n",
    "        else:\n",
    "            print(\"Invalid ticket number or no ticket has been taken.\")\n",
    "\n",
    "# Garage class containing:\n",
    "# - tickets: List to track available tickets.\n",
    "# - parking_spaces: List to track available parking spaces.\n",
    "# - active_tickets: Dictionary to track the status of the current ticket.\n",
    "# - rate_per_hour: Attribute to store the hourly parking rate.\n",
    "# - entry_time: Dictionary to track the entry time for each ticket.\n",
    "# - exit_time: Dictionary to track the exit time for each ticket.\n",
    "\n",
    "# Methods:\n",
    "# - take_ticket()\n",
    "# - pay_for_parking()\n",
    "# - leave_garage()\n",
    "# - calculate_fee()\n",
    "# - check_space_availability()\n",
    "# - display_garage_status()\n",
    "# - extend_parking()\n",
    "# - generate_report()"
   ]
  },
  {
   "cell_type": "code",
   "execution_count": 175,
   "id": "eb754182-68af-492f-bc2d-19df153ad7e6",
   "metadata": {
    "tags": []
   },
   "outputs": [],
   "source": [
    "garage = Garage()"
   ]
  },
  {
   "cell_type": "code",
   "execution_count": 180,
   "id": "c118dfb1-18ef-4fe1-b6c5-4b13676f4ef5",
   "metadata": {
    "tags": []
   },
   "outputs": [
    {
     "name": "stdout",
     "output_type": "stream",
     "text": [
      "Ticket #4 taken. Please park at space #4.\n"
     ]
    }
   ],
   "source": [
    "garage.take_ticket()"
   ]
  },
  {
   "cell_type": "code",
   "execution_count": 181,
   "id": "40c17bf9-d1ac-40f6-b072-35ef4eb20c57",
   "metadata": {
    "tags": []
   },
   "outputs": [
    {
     "name": "stdin",
     "output_type": "stream",
     "text": [
      "Enter payment amount:  1\n"
     ]
    },
    {
     "name": "stdout",
     "output_type": "stream",
     "text": [
      "Payment accepted for ticket number: 1.\n"
     ]
    }
   ],
   "source": [
    "garage.pay_for_parking(1)"
   ]
  },
  {
   "cell_type": "code",
   "execution_count": 183,
   "id": "c8337fed-aead-4770-b78e-3a5bfa1cd9ba",
   "metadata": {
    "tags": []
   },
   "outputs": [
    {
     "name": "stdout",
     "output_type": "stream",
     "text": [
      "Ticket not paid. Please pay for your parking.\n"
     ]
    },
    {
     "name": "stdin",
     "output_type": "stream",
     "text": [
      "Enter payment amount:  1\n"
     ]
    },
    {
     "name": "stdout",
     "output_type": "stream",
     "text": [
      "Payment accepted for ticket number: 4.\n"
     ]
    }
   ],
   "source": [
    "garage.leave_garage(4)"
   ]
  },
  {
   "cell_type": "code",
   "execution_count": 185,
   "id": "45dfaf66-0572-4623-b79d-cfa2eaaa4529",
   "metadata": {
    "tags": []
   },
   "outputs": [],
   "source": [
    "import datetime\n",
    "\n",
    "class Garage:\n",
    "    def __init__(self):\n",
    "        self.tickets = [True] * 121  # Initial ticket\n",
    "        self.parking_spaces = [True] * 121  # Initial parking spaces\n",
    "        self.active_tickets = {}\n",
    "        self.exit_time = {}\n",
    "        self.rate_per_hour = 2.0\n",
    "        \n",
    "    def take_ticket(self):\n",
    "        if self.check_space_availability():\n",
    "            ticket_index = self.tickets.index(True)\n",
    "            self.tickets[ticket_index] = False\n",
    "            self.parking_spaces[ticket_index] = False\n",
    "            self.active_tickets[ticket_index] = {\"paid\": False, \"entry_time\": datetime.datetime.now()}\n",
    "            print(f\"Ticket #{ticket_index} taken. Please park at space #{ticket_index}.\")\n",
    "        else:\n",
    "            print(\"No tickets available\")\n",
    "     \n",
    "    def display_garage_status(self):\n",
    "        available_tickets = self.tickets.count(True)\n",
    "        available_spaces = self.parking_spaces.count(True)\n",
    "        print(f\"Available Tickets: {available_tickets}, Available Spaces: {available_spaces}\")\n",
    "        \n",
    "    def check_space_availability(self):\n",
    "        return True in self.tickets\n",
    "\n",
    "    def calculate_fee(self, ticket_number):\n",
    "        if ticket_number in self.active_tickets:\n",
    "            entry_time = self.active_tickets[ticket_number][\"entry_time\"]\n",
    "            exit_time = datetime.datetime.now()\n",
    "            duration = exit_time - entry_time\n",
    "            hours = duration.total_seconds() / 3600\n",
    "            return round(hours * self.rate_per_hour, 2)\n",
    "        else:\n",
    "            print(\"Error: Entry time not recorded for this ticket.\")\n",
    "            return 0\n",
    "\n",
    "    def pay_for_parking(self, ticket_number=None):\n",
    "        if ticket_number in self.active_tickets:\n",
    "            required_fee = self.calculate_fee(ticket_number)\n",
    "            amount = float(input(\"Enter payment amount: \"))\n",
    "            if amount >= required_fee:\n",
    "                self.active_tickets[ticket_number][\"paid\"] = True\n",
    "                print(f\"Payment accepted for ticket number: {ticket_number}.\")\n",
    "            else:\n",
    "                print(\"Error in payment. Please try again.\")\n",
    "        else:\n",
    "            print(\"Invalid ticket number or ticket not found.\")\n",
    "            \n",
    "    def leave_garage(self, ticket_number=None):\n",
    "        if ticket_number in self.active_tickets:\n",
    "            if self.active_tickets[ticket_number].get(\"paid\", False):\n",
    "                print(\"Thank you, have a nice day!\")\n",
    "                self.tickets[ticket_number] = True\n",
    "                self.parking_spaces[ticket_number] = True\n",
    "                del self.active_tickets[ticket_number]\n",
    "            else:\n",
    "                print(\"Ticket not paid. Please pay for your parking.\")\n",
    "                self.pay_for_parking(ticket_number)\n",
    "        else:\n",
    "            print(\"Invalid ticket number or no ticket has been taken.\")\n"
   ]
  },
  {
   "cell_type": "code",
   "execution_count": 186,
   "id": "c65a3f70-bc2c-45ff-9816-405008a11e49",
   "metadata": {
    "tags": []
   },
   "outputs": [],
   "source": [
    "garage = Garage()"
   ]
  },
  {
   "cell_type": "code",
   "execution_count": 193,
   "id": "731f5df3-bd24-43e1-a165-714721648302",
   "metadata": {
    "tags": []
   },
   "outputs": [
    {
     "name": "stdout",
     "output_type": "stream",
     "text": [
      "Ticket #6 taken. Please park at space #6.\n"
     ]
    }
   ],
   "source": [
    "garage.take_ticket()"
   ]
  },
  {
   "cell_type": "code",
   "execution_count": 195,
   "id": "f1d053f9-2af7-4a2c-acc2-99f904ab9e28",
   "metadata": {
    "tags": []
   },
   "outputs": [
    {
     "name": "stdout",
     "output_type": "stream",
     "text": [
      "Ticket not paid. Please pay for your parking.\n"
     ]
    },
    {
     "name": "stdin",
     "output_type": "stream",
     "text": [
      "Enter payment amount:  1\n"
     ]
    },
    {
     "name": "stdout",
     "output_type": "stream",
     "text": [
      "Payment accepted for ticket number: 2.\n"
     ]
    }
   ],
   "source": [
    "garage.leave_garage(2)"
   ]
  },
  {
   "cell_type": "code",
   "execution_count": 196,
   "id": "cd5c5fd2-0757-4d18-8d2f-074d71c16acf",
   "metadata": {
    "tags": []
   },
   "outputs": [],
   "source": [
    "import datetime\n",
    "\n",
    "class Garage:\n",
    "    def __init__(self):\n",
    "        # Initialize the garage with 121 tickets and parking spaces available\n",
    "        self.tickets = [True] * 121  \n",
    "        self.parking_spaces = [True] * 121  \n",
    "        self.active_tickets = {}  # Dictionary to keep track of active tickets\n",
    "        self.exit_time = {}  # Dictionary to keep track of exit times (not currently used)\n",
    "        self.rate_per_hour = 2.0  # Parking rate per hour\n",
    "        \n",
    "    def take_ticket(self):\n",
    "        # Check if there are any parking spaces available\n",
    "        if self.check_space_availability():\n",
    "            # Find the first available ticket\n",
    "            ticket_index = self.tickets.index(True)\n",
    "            # Mark the ticket and corresponding parking space as occupied\n",
    "            self.tickets[ticket_index] = False\n",
    "            self.parking_spaces[ticket_index] = False\n",
    "            # Record the ticket as active with its entry time\n",
    "            self.active_tickets[ticket_index] = {\"paid\": False, \"entry_time\": datetime.datetime.now()}\n",
    "            # Notify the user of their ticket and parking space\n",
    "            print(f\"Ticket #{ticket_index} taken. Please park at space #{ticket_index}.\")\n",
    "        else:\n",
    "            # Inform the user that no tickets are available if the garage is full\n",
    "            print(\"No tickets available\")\n",
    "     \n",
    "    def display_garage_status(self):\n",
    "        # Count and display the number of available tickets and parking spaces\n",
    "        available_tickets = self.tickets.count(True)\n",
    "        available_spaces = self.parking_spaces.count(True)\n",
    "        print(f\"Available Tickets: {available_tickets}, Available Spaces: {available_spaces}\")\n",
    "        \n",
    "    def check_space_availability(self):\n",
    "        # Return True if there are any available tickets (and hence parking spaces)\n",
    "        return True in self.tickets\n",
    "\n",
    "    def calculate_fee(self, ticket_number):\n",
    "        # Calculate the parking fee for a given ticket number\n",
    "        if ticket_number in self.active_tickets:\n",
    "            # Retrieve the entry time for the ticket\n",
    "            entry_time = self.active_tickets[ticket_number][\"entry_time\"]\n",
    "            # Calculate the duration of parking\n",
    "            exit_time = datetime.datetime.now()\n",
    "            duration = exit_time - entry_time\n",
    "            hours = duration.total_seconds() / 3600\n",
    "            # Calculate and return the fee based on the parking duration\n",
    "            return round(hours * self.rate_per_hour, 2)\n",
    "        else:\n",
    "            # Notify if the entry time is not recorded for the ticket\n",
    "            print(\"Error: Entry time not recorded for this ticket.\")\n",
    "            return 0\n",
    "\n",
    "    def pay_for_parking(self, ticket_number=None):\n",
    "        # Process payment for a specific ticket number\n",
    "        if ticket_number in self.active_tickets:\n",
    "            # Calculate the required fee for the ticket\n",
    "            required_fee = self.calculate_fee(ticket_number)\n",
    "            # Prompt the user for the payment amount\n",
    "            amount = float(input(\"Enter payment amount: \"))\n",
    "            # Check if the paid amount is sufficient\n",
    "            if amount >= required_fee:\n",
    "                # Mark the ticket as paid\n",
    "                self.active_tickets[ticket_number][\"paid\"] = True\n",
    "                # Notify payment acceptance\n",
    "                print(f\"Payment accepted for ticket number: {ticket_number}.\")\n",
    "            else:\n",
    "                # Notify if the payment is insufficient\n",
    "                print(\"Error in payment. Please try again.\")\n",
    "        else:\n",
    "            # Notify if the ticket number is invalid or not found\n",
    "            print(\"Invalid ticket number or ticket not found.\")\n",
    "            \n",
    "    def leave_garage(self, ticket_number=None):\n",
    "        # Process the exit of a car from the garage for a specific ticket number\n",
    "        if ticket_number in self.active_tickets:\n",
    "            # Check if the ticket has been paid\n",
    "            if self.active_tickets[ticket_number].get(\"paid\", False):\n",
    "                # Thank the user and mark the parking space as available\n",
    "                print(\"Thank you, have a nice day!\")\n",
    "                self.tickets[ticket_number] = True\n",
    "                self.parking_spaces[ticket_number] = True\n",
    "                # Remove the ticket from the active tickets\n",
    "                del self.active_tickets[ticket_number]\n",
    "            else:\n",
    "                # If the ticket has not been paid, prompt for payment\n",
    "                print(\"Ticket not paid. Please pay for your parking.\")\n",
    "                self.pay_for_parking(ticket_number)\n",
    "        else:\n",
    "            # Notify if the ticket number is invalid or no ticket has been taken\n",
    "            print(\"Invalid ticket number or no ticket has been taken.\")\n"
   ]
  },
  {
   "cell_type": "code",
   "execution_count": 222,
   "id": "19d33db0-6e4c-42a8-ad19-5ddc1571a99e",
   "metadata": {
    "tags": []
   },
   "outputs": [
    {
     "name": "stdout",
     "output_type": "stream",
     "text": [
      "\n",
      "Welcome to the Garage!\n",
      "A. Take a ticket\n",
      "B. Pay for parking\n",
      "C. Extend parking\n",
      "D. Leave garage\n",
      "E. Exit program\n",
      "F. Display garage status\n"
     ]
    },
    {
     "name": "stdin",
     "output_type": "stream",
     "text": [
      "Choose option A-F:  a\n"
     ]
    },
    {
     "name": "stdout",
     "output_type": "stream",
     "text": [
      "Ticket #0 taken. Please park at space #0.\n",
      "\n",
      "Welcome to the Garage!\n",
      "A. Take a ticket\n",
      "B. Pay for parking\n",
      "C. Extend parking\n",
      "D. Leave garage\n",
      "E. Exit program\n",
      "F. Display garage status\n"
     ]
    },
    {
     "name": "stdin",
     "output_type": "stream",
     "text": [
      "Choose option A-F:  d\n",
      "Enter your ticket number to leave:  0\n"
     ]
    },
    {
     "name": "stdout",
     "output_type": "stream",
     "text": [
      "Ticket not paid. Please pay for your parking.\n",
      "Fee owed: $0.0\n"
     ]
    },
    {
     "name": "stdin",
     "output_type": "stream",
     "text": [
      "Enter payment amount:  1\n"
     ]
    },
    {
     "name": "stdout",
     "output_type": "stream",
     "text": [
      "Payment accepted for ticket number: 0.\n",
      "Thank you, have a nice day!\n",
      "\n",
      "Welcome to the Garage!\n",
      "A. Take a ticket\n",
      "B. Pay for parking\n",
      "C. Extend parking\n",
      "D. Leave garage\n",
      "E. Exit program\n",
      "F. Display garage status\n"
     ]
    },
    {
     "name": "stdin",
     "output_type": "stream",
     "text": [
      "Choose option A-F:  e\n"
     ]
    },
    {
     "name": "stdout",
     "output_type": "stream",
     "text": [
      "Exiting the program. Have a nice day!\n"
     ]
    }
   ],
   "source": [
    "import datetime\n",
    "\n",
    "class Garage:\n",
    "    def __init__(self):\n",
    "        self.tickets = [True] * 121  # Initial ticket\n",
    "        self.parking_spaces = [True] * 121  # Initial parking spaces\n",
    "        self.active_tickets = {}\n",
    "        self.rate_per_hour = 2.0\n",
    "        \n",
    "    def check_space_availability(self):\n",
    "        return True in self.tickets\n",
    "\n",
    "    def take_ticket(self):\n",
    "        if self.check_space_availability():\n",
    "            ticket_index = self.tickets.index(True)\n",
    "            self.tickets[ticket_index] = False\n",
    "            self.parking_spaces[ticket_index] = False\n",
    "            self.active_tickets[ticket_index] = {\"paid\": False, \"entry_time\": datetime.datetime.now()}\n",
    "            print(f\"Ticket #{ticket_index} taken. Please park at space #{ticket_index}.\")\n",
    "        else:\n",
    "            print(\"No tickets available\")\n",
    "\n",
    "    def calculate_fee(self, ticket_number):\n",
    "        if ticket_number in self.active_tickets:\n",
    "            entry_time = self.active_tickets[ticket_number][\"entry_time\"]\n",
    "            exit_time = datetime.datetime.now()\n",
    "            duration = exit_time - entry_time\n",
    "            hours = duration.total_seconds() / 3600\n",
    "            return round(hours * self.rate_per_hour, 2)\n",
    "        else:\n",
    "            print(\"Error: Entry time not recorded for this ticket.\")\n",
    "            return 0\n",
    "\n",
    "    def safe_input_ticket_number(self, prompt):\n",
    "        while True:\n",
    "            try:\n",
    "                return int(input(prompt))\n",
    "            except ValueError:\n",
    "                print(\"Invalid input. Please enter a valid ticket number.\")\n",
    "        \n",
    "    def pay_for_parking(self, ticket_number=None):\n",
    "        if ticket_number is None:\n",
    "            ticket_number = self.safe_input_ticket_number(\"Enter your ticket number: \")\n",
    "        if ticket_number in self.active_tickets:\n",
    "            required_fee = self.calculate_fee(ticket_number)\n",
    "            print(f\"Fee owed: ${required_fee}\")\n",
    "            amount = float(input(\"Enter payment amount: \"))\n",
    "            if amount >= required_fee:\n",
    "                self.active_tickets[ticket_number][\"paid\"] = True\n",
    "                print(f\"Payment accepted for ticket number: {ticket_number}.\")\n",
    "            else:\n",
    "                print(\"Error in payment. Please try again.\")\n",
    "        else:\n",
    "            print(\"Invalid ticket number or ticket not found.\")\n",
    "\n",
    "    def leave_garage(self, ticket_number=None):\n",
    "        if ticket_number in self.active_tickets:\n",
    "            if self.active_tickets[ticket_number].get(\"paid\", False):\n",
    "                print(\"Thank you, have a nice day!\")\n",
    "                self._reset_ticket_and_space(ticket_number)\n",
    "            else:\n",
    "                print(\"Ticket not paid. Please pay for your parking.\")\n",
    "                self.pay_for_parking(ticket_number)\n",
    "                if self.active_tickets[ticket_number].get(\"paid\", False):\n",
    "                    print(\"Thank you, have a nice day!\")\n",
    "                    self._reset_ticket_and_space(ticket_number)\n",
    "                else:\n",
    "                    print(\"Payment not completed. You cannot leave the garage.\")\n",
    "        else:\n",
    "            print(\"Invalid ticket number or no ticket has been taken.\")\n",
    "\n",
    "    def _reset_ticket_and_space(self, ticket_number):\n",
    "        self.tickets[ticket_number] = True\n",
    "        self.parking_spaces[ticket_number] = True\n",
    "        del self.active_tickets[ticket_number]\n",
    "\n",
    "    def display_garage_status(self):\n",
    "        available_tickets = self.tickets.count(True)\n",
    "        available_spaces = self.parking_spaces.count(True)\n",
    "        print(f\"Available Tickets: {available_tickets}, Available Spaces: {available_spaces}\")\n",
    "\n",
    "    def extend_parking_time(self, ticket_number):\n",
    "        if ticket_number in self.active_tickets:\n",
    "            try:\n",
    "                additional_time = int(input(\"How many minutes would you like to extend your parking? \"))\n",
    "                current_entry_time = self.active_tickets[ticket_number][\"entry_time\"]\n",
    "                self.active_tickets[ticket_number][\"entry_time\"] = current_entry_time - datetime.timedelta(minutes=additional_time)\n",
    "                new_fee = self.calculate_fee(ticket_number)\n",
    "                print(f\"Parking time extended for ticket number: {ticket_number}. New fee: ${new_fee}\")\n",
    "            except ValueError:\n",
    "                print(\"Invalid input. Please enter a number.\")\n",
    "        else:\n",
    "            print(\"Invalid ticket number or ticket not found.\")\n",
    "    \n",
    "    def interactive_menu(self):\n",
    "        while True:\n",
    "            print(\"\\nWelcome to the Garage!\")\n",
    "            print(\"A. Take a ticket\")\n",
    "            print(\"B. Pay for parking\")\n",
    "            print(\"C. Extend parking\")\n",
    "            print(\"D. Leave garage\")\n",
    "            print(\"E. Exit program\")\n",
    "            print(\"F. Display garage status\")\n",
    "            choice = input(\"Choose option A-F: \").upper()\n",
    "\n",
    "            if choice == \"A\":\n",
    "                self.take_ticket()\n",
    "            elif choice == \"B\":\n",
    "                ticket_number = self.safe_input_ticket_number(\"Enter your ticket number: \")\n",
    "                self.pay_for_parking(ticket_number)\n",
    "            elif choice == \"C\":\n",
    "                ticket_number = self.safe_input_ticket_number(\"Enter your ticket number to extend parking: \")\n",
    "                self.extend_parking_time(ticket_number)\n",
    "            elif choice == \"D\":\n",
    "                ticket_number = self.safe_input_ticket_number(\"Enter your ticket number to leave: \")\n",
    "                if ticket_number in self.active_tickets:\n",
    "                    self.leave_garage(ticket_number)\n",
    "                else:\n",
    "                    print(\"Can't leave without a valid ticket.\")\n",
    "            elif choice == \"E\":\n",
    "                print(\"Exiting the program. Have a nice day!\")\n",
    "                break\n",
    "            elif choice == \"F\":\n",
    "                self.display_garage_status()\n",
    "            else:\n",
    "                print(\"Invalid option. Please try again.\")\n",
    "\n",
    "\n",
    "# Create an instance of the Garage and start the interactive menu\n",
    "garage = Garage()\n",
    "garage.interactive_menu()"
   ]
  },
  {
   "cell_type": "code",
   "execution_count": 224,
   "id": "2f45360f-4505-4da4-a8fe-8a40b88ac683",
   "metadata": {
    "tags": []
   },
   "outputs": [
    {
     "name": "stdout",
     "output_type": "stream",
     "text": [
      "\n",
      "Welcome to the Garage!\n",
      "A. Take a ticket\n",
      "B. Pay for parking\n",
      "C. Extend parking\n",
      "D. Leave garage\n",
      "E. Exit program\n",
      "F. Display garage status\n"
     ]
    },
    {
     "name": "stdin",
     "output_type": "stream",
     "text": [
      "Choose option A-F:  a\n"
     ]
    },
    {
     "name": "stdout",
     "output_type": "stream",
     "text": [
      "Ticket #0 taken. Please park at space #0.\n",
      "\n",
      "Welcome to the Garage!\n",
      "A. Take a ticket\n",
      "B. Pay for parking\n",
      "C. Extend parking\n",
      "D. Leave garage\n",
      "E. Exit program\n",
      "F. Display garage status\n"
     ]
    },
    {
     "name": "stdin",
     "output_type": "stream",
     "text": [
      "Choose option A-F:  a\n"
     ]
    },
    {
     "name": "stdout",
     "output_type": "stream",
     "text": [
      "Ticket #1 taken. Please park at space #1.\n",
      "\n",
      "Welcome to the Garage!\n",
      "A. Take a ticket\n",
      "B. Pay for parking\n",
      "C. Extend parking\n",
      "D. Leave garage\n",
      "E. Exit program\n",
      "F. Display garage status\n"
     ]
    },
    {
     "name": "stdin",
     "output_type": "stream",
     "text": [
      "Choose option A-F:  a\n"
     ]
    },
    {
     "name": "stdout",
     "output_type": "stream",
     "text": [
      "Ticket #2 taken. Please park at space #2.\n",
      "\n",
      "Welcome to the Garage!\n",
      "A. Take a ticket\n",
      "B. Pay for parking\n",
      "C. Extend parking\n",
      "D. Leave garage\n",
      "E. Exit program\n",
      "F. Display garage status\n"
     ]
    },
    {
     "name": "stdin",
     "output_type": "stream",
     "text": [
      "Choose option A-F:  a\n"
     ]
    },
    {
     "name": "stdout",
     "output_type": "stream",
     "text": [
      "Ticket #3 taken. Please park at space #3.\n",
      "\n",
      "Welcome to the Garage!\n",
      "A. Take a ticket\n",
      "B. Pay for parking\n",
      "C. Extend parking\n",
      "D. Leave garage\n",
      "E. Exit program\n",
      "F. Display garage status\n"
     ]
    },
    {
     "name": "stdin",
     "output_type": "stream",
     "text": [
      "Choose option A-F:  a\n"
     ]
    },
    {
     "name": "stdout",
     "output_type": "stream",
     "text": [
      "Ticket #4 taken. Please park at space #4.\n",
      "\n",
      "Welcome to the Garage!\n",
      "A. Take a ticket\n",
      "B. Pay for parking\n",
      "C. Extend parking\n",
      "D. Leave garage\n",
      "E. Exit program\n",
      "F. Display garage status\n"
     ]
    },
    {
     "name": "stdin",
     "output_type": "stream",
     "text": [
      "Choose option A-F:  a\n"
     ]
    },
    {
     "name": "stdout",
     "output_type": "stream",
     "text": [
      "Ticket #5 taken. Please park at space #5.\n",
      "\n",
      "Welcome to the Garage!\n",
      "A. Take a ticket\n",
      "B. Pay for parking\n",
      "C. Extend parking\n",
      "D. Leave garage\n",
      "E. Exit program\n",
      "F. Display garage status\n"
     ]
    },
    {
     "name": "stdin",
     "output_type": "stream",
     "text": [
      "Choose option A-F:  a\n"
     ]
    },
    {
     "name": "stdout",
     "output_type": "stream",
     "text": [
      "Ticket #6 taken. Please park at space #6.\n",
      "\n",
      "Welcome to the Garage!\n",
      "A. Take a ticket\n",
      "B. Pay for parking\n",
      "C. Extend parking\n",
      "D. Leave garage\n",
      "E. Exit program\n",
      "F. Display garage status\n"
     ]
    },
    {
     "name": "stdin",
     "output_type": "stream",
     "text": [
      "Choose option A-F:  a\n"
     ]
    },
    {
     "name": "stdout",
     "output_type": "stream",
     "text": [
      "Ticket #7 taken. Please park at space #7.\n",
      "\n",
      "Welcome to the Garage!\n",
      "A. Take a ticket\n",
      "B. Pay for parking\n",
      "C. Extend parking\n",
      "D. Leave garage\n",
      "E. Exit program\n",
      "F. Display garage status\n"
     ]
    },
    {
     "name": "stdin",
     "output_type": "stream",
     "text": [
      "Choose option A-F:  e\n"
     ]
    },
    {
     "name": "stdout",
     "output_type": "stream",
     "text": [
      "Exiting the program. Have a nice day!\n"
     ]
    }
   ],
   "source": [
    "import datetime  # Import datetime module for time operations\n",
    "\n",
    "class Garage:\n",
    "    def __init__(self):\n",
    "        # Initialize Garage with 120 tickets and parking spaces, and an hourly rate\n",
    "        self.tickets = [True] * 121\n",
    "        self.parking_spaces = [True] * 121\n",
    "        self.active_tickets = {}  # Dictionary to track the status of active tickets\n",
    "        self.rate_per_hour = 2.0  # Set hourly parking rate\n",
    "        \n",
    "\n",
    "\n",
    "#### -------- CALLABLE METHODS -------- #####    \n",
    "\n",
    "    def take_ticket(self):\n",
    "        # Issue a ticket if available and mark parking space as occupied\n",
    "        if self.check_space_availability():\n",
    "            ticket_index = self.tickets.index(True)\n",
    "            self.tickets[ticket_index] = False\n",
    "            self.parking_spaces[ticket_index] = False\n",
    "            # Record the ticket's issue time\n",
    "            self.active_tickets[ticket_index] = {\"paid\": False, \"entry_time\": datetime.datetime.now()}\n",
    "            print(f\"Ticket #{ticket_index} taken. Please park at space #{ticket_index}.\")\n",
    "        else:\n",
    "            print(\"No tickets available\")\n",
    "            \n",
    "    def pay_for_parking(self, ticket_number=None):\n",
    "        # Process payment for parking\n",
    "        if ticket_number is None:\n",
    "            ticket_number = self.safe_input_ticket_number(\"Enter your ticket number: \")\n",
    "        if ticket_number in self.active_tickets:\n",
    "            required_fee = self.calculate_fee(ticket_number)\n",
    "            print(f\"Fee owed: ${required_fee}\")\n",
    "            amount = float(input(\"Enter payment amount: \"))\n",
    "            if amount >= required_fee:\n",
    "                self.active_tickets[ticket_number][\"paid\"] = True\n",
    "                print(f\"Payment accepted for ticket number: {ticket_number}.\")\n",
    "            else:\n",
    "                print(\"Error in payment. Please try again.\")\n",
    "        else:\n",
    "            print(\"Invalid ticket number or ticket not found.\")            \n",
    "            \n",
    "    def extend_parking_time(self, ticket_number):\n",
    "        # Allow users to extend their parking time\n",
    "        if ticket_number in self.active_tickets:\n",
    "            try:\n",
    "                additional_time = int(input(\"How many minutes would you like to extend your parking? \"))\n",
    "                current_entry_time = self.active_tickets[ticket_number][\"entry_time\"]\n",
    "                self.active_tickets[ticket_number][\"entry_time\"] = current_entry_time - datetime.timedelta(minutes=additional_time)\n",
    "                new_fee = self.calculate_fee(ticket_number)\n",
    "                print(f\"Parking time extended for ticket number: {ticket_number}. New fee: ${new_fee}\")\n",
    "            except ValueError:\n",
    "                print(\"Invalid input. Please enter a number.\")\n",
    "        else:\n",
    "            print(\"Invalid ticket number or ticket not found.\") \n",
    "\n",
    "    def leave_garage(self, ticket_number=None):\n",
    "        # Handle the process of a car leaving the garage\n",
    "        if ticket_number in self.active_tickets:\n",
    "            if self.active_tickets[ticket_number].get(\"paid\", False):\n",
    "                print(\"Thank you, have a nice day!\")\n",
    "                self._reset_ticket_and_space(ticket_number)\n",
    "            else:\n",
    "                print(\"Ticket not paid. Please pay for your parking.\")\n",
    "                self.pay_for_parking(ticket_number)\n",
    "                if self.active_tickets[ticket_number].get(\"paid\", False):\n",
    "                    print(\"Thank you, have a nice day!\")\n",
    "                    self._reset_ticket_and_space(ticket_number)\n",
    "                else:\n",
    "                    print(\"Payment not completed. You cannot leave the garage.\")\n",
    "        else:\n",
    "            print(\"Invalid ticket number or no ticket has been taken.\")          \n",
    "            \n",
    "    def display_garage_status(self):\n",
    "        # Display the current availability of tickets and parking spaces\n",
    "        available_tickets = self.tickets.count(True)\n",
    "        available_spaces = self.parking_spaces.count(True)\n",
    "        print(f\"Available Tickets: {available_tickets}, Available Spaces: {available_spaces}\")\n",
    "    \n",
    "    def interactive_menu(self):\n",
    "        # Interactive menu for users to interact with the garage system\n",
    "        while True:\n",
    "            print(\"\\nWelcome to the Garage!\")\n",
    "            print(\"A. Take a ticket\")\n",
    "            print(\"B. Pay for parking\")\n",
    "            print(\"C. Extend parking\")\n",
    "            print(\"D. Leave garage\")\n",
    "            print(\"E. Exit program\")\n",
    "            print(\"F. Display garage status\")\n",
    "            choice = input(\"Choose option A-F: \").upper()\n",
    "\n",
    "    def interactive_menu(self):\n",
    "        while True:\n",
    "            print(\"\\nWelcome to the Garage!\")\n",
    "            print(\"A. Take a ticket\")\n",
    "            print(\"B. Pay for parking\")\n",
    "            print(\"C. Extend parking\")\n",
    "            print(\"D. Leave garage\")\n",
    "            print(\"E. Exit program\")\n",
    "            print(\"F. Display garage status\")\n",
    "            choice = input(\"Choose option A-F: \").upper()\n",
    "\n",
    "            if choice == \"A\":\n",
    "                self.take_ticket()\n",
    "            elif choice == \"B\":\n",
    "                ticket_number = self.safe_input_ticket_number(\"Enter your ticket number: \")\n",
    "                self.pay_for_parking(ticket_number)\n",
    "            elif choice == \"C\":\n",
    "                ticket_number = self.safe_input_ticket_number(\"Enter your ticket number to extend parking: \")\n",
    "                self.extend_parking_time(ticket_number)\n",
    "            elif choice == \"D\":\n",
    "                ticket_number = self.safe_input_ticket_number(\"Enter your ticket number to leave: \")\n",
    "                if ticket_number in self.active_tickets:\n",
    "                    self.leave_garage(ticket_number)\n",
    "                else:\n",
    "                    print(\"Can't leave without a valid ticket.\")\n",
    "            elif choice == \"E\":\n",
    "                print(\"Exiting the program. Have a nice day!\")\n",
    "                break\n",
    "            elif choice == \"F\":\n",
    "                self.display_garage_status()\n",
    "            else:\n",
    "                print(\"Invalid option. Please try again.\")\n",
    "\n",
    "\n",
    "\n",
    "#### -------- HELPER METHODS -------- #####        \n",
    "            \n",
    "    def check_space_availability(self):\n",
    "        # Check if there is at least one available ticket\n",
    "        return True in self.tickets\n",
    "\n",
    "    def calculate_fee(self, ticket_number):\n",
    "        # Calculate the fee based on the duration of parking\n",
    "        if ticket_number in self.active_tickets:\n",
    "            entry_time = self.active_tickets[ticket_number][\"entry_time\"]\n",
    "            exit_time = datetime.datetime.now()\n",
    "            duration = exit_time - entry_time\n",
    "            hours = duration.total_seconds() / 3600\n",
    "            return round(hours * self.rate_per_hour, 2)\n",
    "        else:\n",
    "            print(\"Error: Entry time not recorded for this ticket.\")\n",
    "            return 0\n",
    "\n",
    "    def safe_input_ticket_number(self, prompt):\n",
    "        # Parse ticket number input, checking if it is a valid integer\n",
    "        while True:\n",
    "            try:\n",
    "                return int(input(prompt))\n",
    "            except ValueError:\n",
    "                print(\"Invalid input. Please enter a valid ticket number.\")\n",
    "    \n",
    "    def _reset_ticket_and_space(self, ticket_number):\n",
    "        # Reset the ticket and parking space status after a car leaves\n",
    "        self.tickets[ticket_number] = True\n",
    "        self.parking_spaces[ticket_number] = True\n",
    "        del self.active_tickets[ticket_number]\n",
    "\n",
    "        \n",
    "\n",
    "# Create an instance of the Garage and start the interactive menu\n",
    "garage = Garage()\n",
    "garage.interactive_menu()\n"
   ]
  },
  {
   "cell_type": "code",
   "execution_count": null,
   "id": "5218094c-11d0-4e64-b719-ae5496068063",
   "metadata": {},
   "outputs": [],
   "source": []
  }
 ],
 "metadata": {
  "kernelspec": {
   "display_name": "Python 3 (ipykernel)",
   "language": "python",
   "name": "python3"
  },
  "language_info": {
   "codemirror_mode": {
    "name": "ipython",
    "version": 3
   },
   "file_extension": ".py",
   "mimetype": "text/x-python",
   "name": "python",
   "nbconvert_exporter": "python",
   "pygments_lexer": "ipython3",
   "version": "3.11.5"
  }
 },
 "nbformat": 4,
 "nbformat_minor": 5
}
