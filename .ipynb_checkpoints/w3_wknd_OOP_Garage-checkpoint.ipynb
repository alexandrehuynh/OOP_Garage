{
 "cells": [
  {
   "cell_type": "markdown",
   "id": "3e5b8e09-355e-4e9a-b259-5a04a01f51bc",
   "metadata": {
    "tags": []
   },
   "source": [
    "# Week 3 Weekend Group Project"
   ]
  },
  {
   "cell_type": "markdown",
   "id": "c0b6cf42-baef-406b-910d-0722c40ff6f2",
   "metadata": {
    "tags": []
   },
   "source": [
    "### Build a garage using OOP"
   ]
  },
  {
   "cell_type": "markdown",
   "id": "8bbbe1c0-0760-4a5f-a22a-6fa62ac98768",
   "metadata": {},
   "source": [
    "Here are some guidelines on constructing your Garage. Your Garage does not need to do exactly this.\n",
    "BUT! It should be robust enough for the user to interact with as if they were entering and leaving a parking garage. \n",
    "- take_ticket\n",
    "- This should decrease the amount of tickets available by 1\n",
    "- This should decrease the amount of parking_spaces available by 1\n",
    "- pay_for_parking\n",
    "- Display an input that waits for an amount from the user and store it in a variable\n",
    "- If the payment variable is not empty then (meaning the ticket has been paid) -> display a message to the user that their ticket has been paid and they have 15mins to leave\n",
    "- This should update the \"current_ticket\" dictionary key \"paid\" to True\n",
    "-leave_garage\n",
    "- If the ticket has been paid, display a message of \"Thank You, have a nice day\"\n",
    "- If the ticket has not been paid, display an input prompt for payment\n",
    "- Once paid, display message \"Thank you, have a nice day!\"\n",
    "- Update parking_spaces list to increase by 1 (meaning add to the parkingSpaces list)\n",
    "- Update tickets list to increase by 1 (meaning add to the tickets list)\n",
    "\n",
    "Some example attributes:\n",
    "- tickets -> list\n",
    "- parking_spaces -> list\n",
    "- current_ticket -> dictionary"
   ]
  },
  {
   "cell_type": "markdown",
   "id": "3e59d7aa-35c0-4dac-ac1a-73b2626d5b50",
   "metadata": {},
   "source": [
    "######"
   ]
  },
  {
   "cell_type": "markdown",
   "id": "287d281c-7a12-4e3a-ad5d-8b1db1d50bab",
   "metadata": {},
   "source": [
    "#### Define Key Components"
   ]
  },
  {
   "cell_type": "markdown",
   "id": "ef61a806-97e5-41fc-91ac-99d04d01e7c6",
   "metadata": {},
   "source": [
    "Garage class containing:\n",
    "- tickets: List to track available tickets.\n",
    "- parking_spaces: List to track available parking spaces.\n",
    "- current_ticket: Dictionary to track the status of the current ticket.\n",
    "\n",
    "Methods:\n",
    "- take_ticket()\n",
    "- pay_for_parking()\n",
    "- leave_garage()"
   ]
  },
  {
   "cell_type": "markdown",
   "id": "2888614a-372d-47e5-8a3f-f67d10521e09",
   "metadata": {},
   "source": [
    "######"
   ]
  },
  {
   "cell_type": "code",
   "execution_count": 4,
   "id": "e58ad918-56fb-4543-9421-e9f97c713820",
   "metadata": {
    "tags": []
   },
   "outputs": [],
   "source": [
    "class Garage:\n",
    "    def __init__(self):\n",
    "        self.tickets = [True] * 121 # Initial ticket\n",
    "        self.parking_spaces = [True] * 121 # Initial parking spacesw\n",
    "        self.current_ticket = {}\n",
    "        \n",
    "    def take_ticket():\n",
    "        if True in self.tickets:\n",
    "            ticket_index = self.tickets.index(True)\n",
    "            self.tickets[ticket_index] = False\n",
    "            self.parking_spaces[ticket_index] = False\n",
    "            self.cirremt_ticket {\"ticket number\": ticket_index, \"paid\": False}\n",
    "            print(f\"Ticket #{ticket_index} taken. Please park at space #{ticket_index}.\")\n",
    "        else:\n",
    "            print(\"No tickets available\")\n",
    "            \n",
    "    def pay_for_parking():\n",
    "        pass\n",
    "    \n",
    "    def leave_garage():\n",
    "        pass"
   ]
  },
  {
   "cell_type": "code",
   "execution_count": null,
   "id": "2bc72ed8-e691-4b3d-812c-52773024ec93",
   "metadata": {},
   "outputs": [],
   "source": [
    "class Garage:\n",
    "    def __init__(self):\n",
    "        self.tickets = [True] * 100  # Assuming 100 tickets initially\n",
    "        self.parking_spaces = [True] * 100  # Assuming 100 parking spaces initially\n",
    "        self.current_ticket = {}\n",
    "\n",
    "    def take_ticket(self):\n",
    "        if True in self.tickets:\n",
    "            ticket_index = self.tickets.index(True)\n",
    "            self.tickets[ticket_index] = False\n",
    "            self.parking_spaces[ticket_index] = False\n",
    "            self.current_ticket = {\"ticket_number\": ticket_index, \"paid\": False}\n",
    "            print(f\"Ticket #{ticket_index} taken. Please park at space #{ticket_index}.\")\n",
    "        else:\n",
    "            print(\"No tickets available.\")\n",
    "\n",
    "    def pay_for_parking(self):\n",
    "        amount = float(input(\"Enter payment amount: \"))\n",
    "        if amount > 0:\n",
    "            self.current_ticket[\"paid\"] = True\n",
    "            print(\"Your ticket has been paid. You have 15 minutes to leave.\")\n",
    "\n",
    "    def leave_garage(self):\n",
    "        if self.current_ticket.get(\"paid\"):\n",
    "            print(\"Thank you, have a nice day!\")\n",
    "            ticket_number = self.current_ticket[\"ticket_number\"]\n",
    "            self.tickets[ticket_number] = True\n",
    "            self.parking_spaces[ticket_number] = True\n",
    "        else:\n",
    "            print(\"Ticket not paid. Please pay for your parking.\")\n",
    "            self.pay_for_parking()\n",
    "            print(\"Thank you, have a nice day!\")\n",
    "            ticket_number = self.current_ticket[\"ticket_number\"]\n",
    "            self.tickets[ticket_number] = True\n",
    "            self.parking_spaces[ticket_number] = True\n",
    "\n",
    "\n",
    "# Example usage\n",
    "garage = Garage()\n",
    "garage.take_ticket()\n",
    "garage.pay_for_parking()\n",
    "garage.leave_garage()\n"
   ]
  }
 ],
 "metadata": {
  "kernelspec": {
   "display_name": "Python 3 (ipykernel)",
   "language": "python",
   "name": "python3"
  },
  "language_info": {
   "codemirror_mode": {
    "name": "ipython",
    "version": 3
   },
   "file_extension": ".py",
   "mimetype": "text/x-python",
   "name": "python",
   "nbconvert_exporter": "python",
   "pygments_lexer": "ipython3",
   "version": "3.11.5"
  }
 },
 "nbformat": 4,
 "nbformat_minor": 5
}
