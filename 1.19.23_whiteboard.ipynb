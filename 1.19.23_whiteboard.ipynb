{
 "cells": [
  {
   "cell_type": "code",
   "execution_count": 1,
   "id": "e7edefce-eade-4bfd-8420-5e26292530ec",
   "metadata": {
    "tags": []
   },
   "outputs": [],
   "source": [
    "# Running Sum of 1d Array\n",
    "# Given an array nums. We define a running sum of an array as runningSum[i] = sum(nums[0]…nums[i]).\n",
    "# Return the running sum of nums.\n",
    "\n",
    "# Example 1:\n",
    "# Input: nums = [1,2,3,4]\n",
    "# Output: [1,3,6,10]\n",
    "# Explanation: Running sum is obtained as follows: [1, 1+2, 1+2+3, 1+2+3+4].\n",
    "\n",
    "# Example 2:\n",
    "# Input: nums = [1,1,1,1,1]\n",
    "# Output: [1,2,3,4,5]\n",
    "# Explanation: Running sum is obtained as follows: [1, 1+1, 1+1+1, 1+1+1+1, 1+1+1+1+1].\n",
    "\n",
    "# Example 3:\n",
    "# Input: nums = [3,1,2,10,1]\n",
    "# Output: [3,4,6,16,17]"
   ]
  },
  {
   "cell_type": "code",
   "execution_count": 74,
   "id": "1b978488-69c2-46cd-a8f2-675d034ae5a5",
   "metadata": {
    "tags": []
   },
   "outputs": [
    {
     "data": {
      "text/plain": [
       "[3, 4, 6, 16, 17]"
      ]
     },
     "execution_count": 74,
     "metadata": {},
     "output_type": "execute_result"
    }
   ],
   "source": [
    "def sum_be_running(nums):\n",
    "    \n",
    "    running_sum = []\n",
    "    num = 0\n",
    "\n",
    "    for i in nums:\n",
    "    \n",
    "        num += i\n",
    "        running_sum.append(num)\n",
    "    \n",
    "    return running_sum\n",
    "\n",
    "\n",
    "nums = [3,1,2,10,1] \n",
    "sum_be_running(nums)\n",
    "    \n",
    "    \n",
    "#### we take the list\n",
    "#### we take the first number\n",
    "#### we take that number and add it with the next number\n"
   ]
  },
  {
   "cell_type": "code",
   "execution_count": null,
   "id": "8f329ec6-6a1e-4784-b291-44321ad6b2db",
   "metadata": {},
   "outputs": [],
   "source": []
  }
 ],
 "metadata": {
  "kernelspec": {
   "display_name": "Python 3 (ipykernel)",
   "language": "python",
   "name": "python3"
  },
  "language_info": {
   "codemirror_mode": {
    "name": "ipython",
    "version": 3
   },
   "file_extension": ".py",
   "mimetype": "text/x-python",
   "name": "python",
   "nbconvert_exporter": "python",
   "pygments_lexer": "ipython3",
   "version": "3.11.5"
  }
 },
 "nbformat": 4,
 "nbformat_minor": 5
}
